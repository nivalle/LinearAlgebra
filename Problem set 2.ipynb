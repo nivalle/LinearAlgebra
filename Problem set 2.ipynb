{
 "cells": [
  {
   "cell_type": "code",
   "execution_count": 113,
   "metadata": {},
   "outputs": [],
   "source": [
    "%matplotlib inline\n",
    "from sympy import *\n",
    "import numpy as np\n",
    "import matplotlib.pyplot as plt\n",
    "import seaborn as sbn\n",
    "from scipy import *\n",
    "import copy as copy"
   ]
  },
  {
   "cell_type": "markdown",
   "metadata": {},
   "source": [
    "### Section 2.5, #24"
   ]
  },
  {
   "cell_type": "markdown",
   "metadata": {},
   "source": [
    "UU^-1 = I "
   ]
  },
  {
   "cell_type": "code",
   "execution_count": 148,
   "metadata": {},
   "outputs": [],
   "source": [
    "a, b, c, x1, x2 ,x3 = symbols(\"a b c x1 x2 x3\", real=True)"
   ]
  },
  {
   "cell_type": "code",
   "execution_count": 149,
   "metadata": {},
   "outputs": [],
   "source": [
    "UI = np.array([[1, a, b, 1, 0, 0],\n",
    "[0, 1, c, 0, 1, 0],\n",
    "[0, 0, 1, 0, 0, 1]])"
   ]
  },
  {
   "cell_type": "code",
   "execution_count": 150,
   "metadata": {},
   "outputs": [],
   "source": [
    "UI_t= copy.deepcopy(UI)"
   ]
  },
  {
   "cell_type": "code",
   "execution_count": 151,
   "metadata": {},
   "outputs": [
    {
     "data": {
      "text/plain": [
       "array([[1, 0, 0, 1, -a, a*c - b],\n",
       "       [0, 1, 0, 0, 1, -c],\n",
       "       [0, 0, 1, 0, 0, 1]], dtype=object)"
      ]
     },
     "execution_count": 151,
     "metadata": {},
     "output_type": "execute_result"
    }
   ],
   "source": [
    "UI_t=UI_t*np.array([[1],[-a],[1]])\n",
    "UI_t[0] = UI_t[0]+UI_t[1]\n",
    "UI_t[1]=UI_t[1]/(-a)\n",
    "UI_t[1]=UI_t[1]+UI_t[2]*(-c)\n",
    "UI_t[0]=UI_t[0]+UI_t[2]*(a*c-b)\n",
    "UI_t\n"
   ]
  },
  {
   "cell_type": "code",
   "execution_count": 152,
   "metadata": {},
   "outputs": [
    {
     "data": {
      "text/plain": [
       "array([[1, -a, a*c - b],\n",
       "       [0, 1, -c],\n",
       "       [0, 0, 1]], dtype=object)"
      ]
     },
     "execution_count": 152,
     "metadata": {},
     "output_type": "execute_result"
    }
   ],
   "source": [
    "U_m1=UI_t[:, [3, 4, 5]]\n",
    "U_m1"
   ]
  },
  {
   "cell_type": "code",
   "execution_count": 153,
   "metadata": {},
   "outputs": [
    {
     "data": {
      "text/plain": [
       "array([[1, a, b],\n",
       "       [0, 1, c],\n",
       "       [0, 0, 1]], dtype=object)"
      ]
     },
     "execution_count": 153,
     "metadata": {},
     "output_type": "execute_result"
    }
   ],
   "source": [
    "U=UI[:, [0, 1, 2]]\n",
    "U"
   ]
  },
  {
   "cell_type": "code",
   "execution_count": 157,
   "metadata": {},
   "outputs": [
    {
     "data": {
      "text/plain": [
       "array([[1, 0, 0],\n",
       "       [0, 1, 0],\n",
       "       [0, 0, 1]], dtype=object)"
      ]
     },
     "execution_count": 157,
     "metadata": {},
     "output_type": "execute_result"
    }
   ],
   "source": [
    "U.dot(U_m1)"
   ]
  },
  {
   "cell_type": "markdown",
   "metadata": {},
   "source": [
    "### #40"
   ]
  },
  {
   "cell_type": "code",
   "execution_count": 126,
   "metadata": {},
   "outputs": [],
   "source": [
    "A = np.array([[1, -a, 0, 0], \n",
    "     [0, 1, -b, 0], \n",
    "     [0, 0, 1, -c], \n",
    "     [0, 0, 0, 1]])"
   ]
  },
  {
   "cell_type": "code",
   "execution_count": 127,
   "metadata": {},
   "outputs": [],
   "source": [
    "AI = np.array([[1, -a, 0, 0, 1, 0, 0, 0], \n",
    "     [0, 1, -b, 0, 0, 1, 0, 0], \n",
    "     [0, 0, 1, -c, 0, 0, 1, 0], \n",
    "     [0, 0, 0, 1, 0, 0, 0, 1,]])"
   ]
  },
  {
   "cell_type": "code",
   "execution_count": 128,
   "metadata": {},
   "outputs": [
    {
     "data": {
      "text/plain": [
       "array([[1, -a, 0, 0, 1, 0, 0, 0],\n",
       "       [0, 1, -b, 0, 0, 1, 0, 0],\n",
       "       [0, 0, 1, 0, 0, 0, 1, c],\n",
       "       [0, 0, 0, 1, 0, 0, 0, 1]], dtype=object)"
      ]
     },
     "execution_count": 128,
     "metadata": {},
     "output_type": "execute_result"
    }
   ],
   "source": [
    "Am1= copy.deepcopy(AI)\n",
    "Am1[2] = AI[3]*c+AI[2]\n",
    "Am1"
   ]
  },
  {
   "cell_type": "code",
   "execution_count": 129,
   "metadata": {},
   "outputs": [
    {
     "data": {
      "text/plain": [
       "array([[1, -a, 0, 0, 1, 0, 0, 0],\n",
       "       [0, 1, 0, 0, 0, 1, b, b*c],\n",
       "       [0, 0, 1, 0, 0, 0, 1, c],\n",
       "       [0, 0, 0, 1, 0, 0, 0, 1]], dtype=object)"
      ]
     },
     "execution_count": 129,
     "metadata": {},
     "output_type": "execute_result"
    }
   ],
   "source": [
    "Am1[1] = Am1[2]*b+Am1[1]\n",
    "Am1"
   ]
  },
  {
   "cell_type": "code",
   "execution_count": 130,
   "metadata": {},
   "outputs": [
    {
     "data": {
      "text/plain": [
       "array([[1, 0, 0, 0, 1, a, a*b, a*b*c],\n",
       "       [0, 1, 0, 0, 0, 1, b, b*c],\n",
       "       [0, 0, 1, 0, 0, 0, 1, c],\n",
       "       [0, 0, 0, 1, 0, 0, 0, 1]], dtype=object)"
      ]
     },
     "execution_count": 130,
     "metadata": {},
     "output_type": "execute_result"
    }
   ],
   "source": [
    "Am1[0] = Am1[1]*a+Am1[0]\n",
    "Am1"
   ]
  },
  {
   "cell_type": "code",
   "execution_count": 131,
   "metadata": {},
   "outputs": [
    {
     "data": {
      "text/plain": [
       "array([[1, a, a*b, a*b*c],\n",
       "       [0, 1, b, b*c],\n",
       "       [0, 0, 1, c],\n",
       "       [0, 0, 0, 1]], dtype=object)"
      ]
     },
     "execution_count": 131,
     "metadata": {},
     "output_type": "execute_result"
    }
   ],
   "source": [
    "Am1=Am1[:, [4, 5, 6, 7]]\n",
    "Am1"
   ]
  },
  {
   "cell_type": "code",
   "execution_count": 132,
   "metadata": {},
   "outputs": [
    {
     "data": {
      "text/plain": [
       "array([[1, 0, 0, 0],\n",
       "       [0, 1, 0, 0],\n",
       "       [0, 0, 1, 0],\n",
       "       [0, 0, 0, 1]], dtype=object)"
      ]
     },
     "execution_count": 132,
     "metadata": {},
     "output_type": "execute_result"
    }
   ],
   "source": [
    "np.dot(A, Am1)"
   ]
  },
  {
   "cell_type": "markdown",
   "metadata": {},
   "source": [
    "### Section 2.6, #13"
   ]
  },
  {
   "cell_type": "code",
   "execution_count": 93,
   "metadata": {},
   "outputs": [],
   "source": [
    "a, b, c, d, x, l = symbols(\"a b c d x l\", real=True)"
   ]
  },
  {
   "cell_type": "code",
   "execution_count": 114,
   "metadata": {},
   "outputs": [],
   "source": [
    "A = np.array([\n",
    "             [a, a, a, a],\n",
    "             [a, b, b, b],\n",
    "             [a, b, c, c],\n",
    "             [a, b, c, d]])"
   ]
  },
  {
   "cell_type": "markdown",
   "metadata": {},
   "source": [
    "Find L, U such that A = LU"
   ]
  },
  {
   "cell_type": "code",
   "execution_count": 115,
   "metadata": {},
   "outputs": [],
   "source": [
    "L = np.array([\n",
    "             [l, 0, 0, 0],\n",
    "             [l, l, 0, 0],\n",
    "             [l, l, l, 0],\n",
    "             [l, l, l, l]])"
   ]
  },
  {
   "cell_type": "code",
   "execution_count": 116,
   "metadata": {},
   "outputs": [
    {
     "data": {
      "text/plain": [
       "array([[a, a, a, a],\n",
       "       [0, -a + b, -a + b, -a + b],\n",
       "       [0, 0, -b + c, -b + c],\n",
       "       [0, 0, 0, -c + d]], dtype=object)"
      ]
     },
     "execution_count": 116,
     "metadata": {},
     "output_type": "execute_result"
    }
   ],
   "source": [
    "U = copy.deepcopy(A)\n",
    "U[3]=A[3]-A[2]\n",
    "U[2]=A[2]-A[1]\n",
    "U[1]=A[1]-A[0]\n",
    "U"
   ]
  },
  {
   "cell_type": "code",
   "execution_count": 124,
   "metadata": {},
   "outputs": [],
   "source": [
    "L = np.array([\n",
    "             [1, 0, 0, 0],\n",
    "             [1, 1, 0, 0],\n",
    "             [1, 1, 1, 0],\n",
    "             [1, 1, 1, 1]])"
   ]
  },
  {
   "cell_type": "code",
   "execution_count": 125,
   "metadata": {},
   "outputs": [
    {
     "data": {
      "text/plain": [
       "array([[a, a, a, a],\n",
       "       [a, b, b, b],\n",
       "       [a, b, c, c],\n",
       "       [a, b, c, d]], dtype=object)"
      ]
     },
     "execution_count": 125,
     "metadata": {},
     "output_type": "execute_result"
    }
   ],
   "source": [
    "LU=np.dot(L,U)\n",
    "LU"
   ]
  },
  {
   "cell_type": "code",
   "execution_count": 119,
   "metadata": {},
   "outputs": [
    {
     "data": {
      "text/plain": [
       "array([[ True,  True,  True,  True],\n",
       "       [ True,  True,  True,  True],\n",
       "       [ True,  True,  True,  True],\n",
       "       [ True,  True,  True,  True]])"
      ]
     },
     "execution_count": 119,
     "metadata": {},
     "output_type": "execute_result"
    }
   ],
   "source": [
    "A==LU"
   ]
  },
  {
   "cell_type": "markdown",
   "metadata": {},
   "source": [
    "### #26"
   ]
  },
  {
   "cell_type": "code",
   "execution_count": 202,
   "metadata": {},
   "outputs": [
    {
     "data": {
      "text/plain": [
       "array([[0., 0., 0., 0., 0., 0.],\n",
       "       [0., 0., 0., 0., 0., 0.],\n",
       "       [0., 0., 0., 0., 0., 0.],\n",
       "       [0., 0., 0., 0., 0., 0.],\n",
       "       [0., 0., 0., 0., 0., 0.],\n",
       "       [0., 0., 0., 0., 0., 0.]])"
      ]
     },
     "execution_count": 202,
     "metadata": {},
     "output_type": "execute_result"
    }
   ],
   "source": [
    "K7m1 = np.zeros((6,6))\n",
    "K7m1"
   ]
  },
  {
   "cell_type": "code",
   "execution_count": 203,
   "metadata": {},
   "outputs": [
    {
     "data": {
      "text/plain": [
       "array([[6., 5., 4., 3., 2., 1.],\n",
       "       [5., 0., 0., 0., 0., 0.],\n",
       "       [4., 0., 0., 0., 0., 0.],\n",
       "       [3., 0., 0., 0., 0., 0.],\n",
       "       [2., 0., 0., 0., 0., 0.],\n",
       "       [1., 0., 0., 0., 0., 0.]])"
      ]
     },
     "execution_count": 203,
     "metadata": {},
     "output_type": "execute_result"
    }
   ],
   "source": [
    "K7m1[0]=[6, 5, 4, 3, 2, 1]\n",
    "K7m1[:,[0]]= [[6], [5], [4], [3], [2], [1]]\n",
    "K7m1"
   ]
  },
  {
   "cell_type": "code",
   "execution_count": 204,
   "metadata": {},
   "outputs": [
    {
     "name": "stdout",
     "output_type": "stream",
     "text": [
      "[[ 6.  5.  4.  3.  2.  1.]\n",
      " [ 5. 10.  8.  6.  4.  2.]\n",
      " [ 4.  8. 12.  9.  6.  3.]\n",
      " [ 3.  6.  9. 12.  8.  4.]\n",
      " [ 2.  4.  6.  8. 10.  5.]\n",
      " [ 1.  2.  3.  4.  5.  6.]]\n"
     ]
    }
   ],
   "source": [
    "for i in range(1, len(K7m1)):\n",
    "    K7m1[i][i:]=(i+1)*K7m1[0][i:]\n",
    "    K7m1[(i+1):,i]=(i+1)*K7m1[(i+1):,0]\n",
    "    \n",
    "print(K7m1)"
   ]
  },
  {
   "cell_type": "code",
   "execution_count": 205,
   "metadata": {},
   "outputs": [],
   "source": [
    "Km1=(1/7)*(K7m1)"
   ]
  },
  {
   "cell_type": "code",
   "execution_count": 208,
   "metadata": {},
   "outputs": [
    {
     "data": {
      "text/plain": [
       "array([[ 2.00000000e+00, -1.00000000e+00, -1.85037171e-17,\n",
       "         1.11022302e-16,  9.25185854e-18, -9.25185854e-18],\n",
       "       [-1.00000000e+00,  2.00000000e+00, -1.00000000e+00,\n",
       "        -1.33226763e-16,  6.66133815e-17,  4.44089210e-17],\n",
       "       [ 1.89663100e-16, -1.00000000e+00,  2.00000000e+00,\n",
       "        -1.00000000e+00,  0.00000000e+00, -2.77555756e-17],\n",
       "       [-1.29526020e-16, -0.00000000e+00, -1.00000000e+00,\n",
       "         2.00000000e+00, -1.00000000e+00,  0.00000000e+00],\n",
       "       [ 9.25185854e-17,  0.00000000e+00,  1.38777878e-17,\n",
       "        -1.00000000e+00,  2.00000000e+00, -1.00000000e+00],\n",
       "       [-1.85037171e-17,  0.00000000e+00, -2.77555756e-17,\n",
       "         0.00000000e+00, -1.00000000e+00,  2.00000000e+00]])"
      ]
     },
     "execution_count": 208,
     "metadata": {},
     "output_type": "execute_result"
    }
   ],
   "source": [
    "K=np.linalg.inv(Km1)\n",
    "K"
   ]
  },
  {
   "cell_type": "code",
   "execution_count": 209,
   "metadata": {},
   "outputs": [
    {
     "data": {
      "text/plain": [
       "array([[ 7.00000000e+00, -1.77635684e-15,  0.00000000e+00,\n",
       "         0.00000000e+00,  4.44089210e-16,  2.22044605e-16],\n",
       "       [ 0.00000000e+00,  7.00000000e+00, -3.55271368e-15,\n",
       "        -1.77635684e-15,  0.00000000e+00,  0.00000000e+00],\n",
       "       [ 1.77635684e-15,  0.00000000e+00,  7.00000000e+00,\n",
       "         0.00000000e+00,  1.77635684e-15,  8.88178420e-16],\n",
       "       [-8.88178420e-16,  0.00000000e+00,  0.00000000e+00,\n",
       "         7.00000000e+00,  0.00000000e+00,  0.00000000e+00],\n",
       "       [ 6.10622664e-16,  5.73615229e-16,  5.36607795e-16,\n",
       "         4.02455846e-16,  7.00000000e+00, -1.64220489e-15],\n",
       "       [-2.22044605e-16, -3.14563190e-16, -4.07081776e-16,\n",
       "        -3.05311332e-16, -2.03540888e-16,  7.00000000e+00]])"
      ]
     },
     "execution_count": 209,
     "metadata": {},
     "output_type": "execute_result"
    }
   ],
   "source": [
    "np.dot(K,K7m1)"
   ]
  },
  {
   "cell_type": "markdown",
   "metadata": {},
   "source": [
    "### Section 2.7, #13"
   ]
  },
  {
   "cell_type": "code",
   "execution_count": null,
   "metadata": {},
   "outputs": [],
   "source": []
  }
 ],
 "metadata": {
  "kernelspec": {
   "display_name": "Python 3",
   "language": "python",
   "name": "python3"
  },
  "language_info": {
   "codemirror_mode": {
    "name": "ipython",
    "version": 3
   },
   "file_extension": ".py",
   "mimetype": "text/x-python",
   "name": "python",
   "nbconvert_exporter": "python",
   "pygments_lexer": "ipython3",
   "version": "3.7.4"
  }
 },
 "nbformat": 4,
 "nbformat_minor": 2
}
