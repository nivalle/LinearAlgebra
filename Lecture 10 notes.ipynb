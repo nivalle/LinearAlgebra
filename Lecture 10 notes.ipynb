{
 "cells": [
  {
   "cell_type": "markdown",
   "metadata": {},
   "source": [
    "# Lecture 10 : four fundamental subspaces "
   ]
  },
  {
   "cell_type": "markdown",
   "metadata": {},
   "source": [
    "### Space is R^3. One basis as below"
   ]
  },
  {
   "cell_type": "code",
   "execution_count": 1,
   "metadata": {},
   "outputs": [],
   "source": [
    "basis = [[1, 0, 0],[0, 1, 0], [0, 0, 1]]"
   ]
  },
  {
   "cell_type": "code",
   "execution_count": 3,
   "metadata": {},
   "outputs": [],
   "source": [
    "another_basis = [[1, 2, 3], [1, 2, 3], [2, 5, 8]]"
   ]
  },
  {
   "cell_type": "markdown",
   "metadata": {},
   "source": [
    "But the matrix above, an example from last lecture is not actually a basis. While all columns are indepenent, it is not invertible because it has two equal rows. Later in this lecture, we will connect the column space with the row space - the row space of this matrix is only 2D since two of the rows are the same. This in fact means that the rank of the column space is also only 2 - the row space tells us somethign about the column space. "
   ]
  },
  {
   "cell_type": "markdown",
   "metadata": {},
   "source": [
    "### Four fundamental subspaces \n",
    "#### Columnspace C(A)\n",
    "#### Nullspace N(A)\n",
    "#### Rowspace R(A) = C(A^T)\n",
    "\n",
    "R(A) - all combinations of rows of A. Rows will be a basis for the row space, if all rows are independent. Or, all combinations of the columns of A^T (we prefer column vectors to row vectors). \n",
    "So, R(A) = C(A^T)\n",
    "\n",
    "#### Nullspace of A^T = N(A^T)\n",
    "\n",
    "N(A^T) is the left nullspace of A\n",
    "\n",
    "\n",
    "##### If A is m x n:\n",
    "- C(A) is in R^m\n",
    "- N(A) is in R^n\n",
    "- C(A^T) is in R^n\n",
    "- N(A^T) is in R^m"
   ]
  },
  {
   "cell_type": "markdown",
   "metadata": {},
   "source": []
  },
  {
   "cell_type": "code",
   "execution_count": null,
   "metadata": {},
   "outputs": [],
   "source": []
  }
 ],
 "metadata": {
  "kernelspec": {
   "display_name": "Python 3",
   "language": "python",
   "name": "python3"
  },
  "language_info": {
   "codemirror_mode": {
    "name": "ipython",
    "version": 3
   },
   "file_extension": ".py",
   "mimetype": "text/x-python",
   "name": "python",
   "nbconvert_exporter": "python",
   "pygments_lexer": "ipython3",
   "version": "3.7.4"
  }
 },
 "nbformat": 4,
 "nbformat_minor": 2
}
