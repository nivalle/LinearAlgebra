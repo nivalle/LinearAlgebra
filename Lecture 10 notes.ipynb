{
 "cells": [
  {
   "cell_type": "code",
   "execution_count": 7,
   "metadata": {},
   "outputs": [],
   "source": [
    "import numpy as np\n",
    "from sympy import *"
   ]
  },
  {
   "cell_type": "markdown",
   "metadata": {},
   "source": [
    "# Lecture 10 : four fundamental subspaces "
   ]
  },
  {
   "cell_type": "markdown",
   "metadata": {},
   "source": [
    "### Space is R^3. One basis as below"
   ]
  },
  {
   "cell_type": "code",
   "execution_count": 1,
   "metadata": {},
   "outputs": [],
   "source": [
    "basis = [[1, 0, 0],[0, 1, 0], [0, 0, 1]]"
   ]
  },
  {
   "cell_type": "code",
   "execution_count": 3,
   "metadata": {},
   "outputs": [],
   "source": [
    "another_basis = [[1, 2, 3], [1, 2, 3], [2, 5, 8]]"
   ]
  },
  {
   "cell_type": "markdown",
   "metadata": {},
   "source": [
    "But the matrix above, an example from last lecture is not actually a basis. While all columns are indepenent, it is not invertible because it has two equal rows. Later in this lecture, we will connect the column space with the row space - the row space of this matrix is only 2D since two of the rows are the same. This in fact means that the rank of the column space is also only 2 - the row space tells us somethign about the column space. "
   ]
  },
  {
   "cell_type": "markdown",
   "metadata": {},
   "source": [
    "### Four fundamental subspaces \n",
    "#### Columnspace C(A)\n",
    "#### Nullspace N(A)\n",
    "#### Rowspace R(A) = C(A^T)\n",
    "\n",
    "R(A) - all combinations of rows of A. Rows will be a basis for the row space, if all rows are independent. Or, all combinations of the columns of A^T (we prefer column vectors to row vectors). \n",
    "So, R(A) = C(A^T)\n",
    "\n",
    "#### Nullspace of A^T = N(A^T)\n",
    "\n",
    "N(A^T) is the left nullspace of A\n",
    "\n",
    "\n",
    "##### If A is m x n:\n",
    "- C(A) is in R^m\n",
    "- N(A) is in R^n\n",
    "- C(A^T) is in R^n\n",
    "- N(A^T) is in R^m"
   ]
  },
  {
   "cell_type": "markdown",
   "metadata": {},
   "source": [
    "We want to understand these subspaces: what systematic way will produce their bases? What is their dimension? \n",
    "\n",
    "#### Dimension\n",
    "Dimension of a subspace is its rank\n",
    "The dimension of a column space (C(A)) = r of A\n",
    "The dimension of a row space (C(A^T)) = r of A, Also!\n",
    "\n",
    "Row space and column space of a matrix A have the same dimension!\n",
    "\n",
    "N(A) = n-r  \n",
    "N(A^T) = m-r\n",
    "\n",
    "The dimension of the null space plus the dimension of the column space should equal the number of columns  \n",
    "\n",
    "#### Basis\n",
    "C(A) - Pivot columms\n",
    "N(A) - special solutions \n",
    "C(A^T) - Pivot columns of A^T\n",
    "N(A^T) - special solutions "
   ]
  },
  {
   "cell_type": "code",
   "execution_count": 13,
   "metadata": {},
   "outputs": [
    {
     "name": "stdout",
     "output_type": "stream",
     "text": [
      "The final matrix R has the identity matrix I, free variable F, and a row of zeros: \n",
      "[[1 0 1 1]\n",
      " [0 1 1 0]\n",
      " [0 0 0 0]]\n"
     ]
    }
   ],
   "source": [
    "A =np.array([[1, 2, 3, 1],[1, 1, 2, 1],[1, 2, 3, 1]])\n",
    "\n",
    "#elimination to get the pivots\n",
    "A=np.array([[1, 2, 3, 1],[0, 1, 1, 0],[0, 0, 0, 0]])\n",
    "\n",
    "#clean up the matrix to get R\n",
    "R=np.array([[1, 0, 1, 1],[0, 1, 1, 0],[0, 0, 0, 0]])\n",
    "print(\"The final matrix R has the identity matrix I,\\\n",
    "free variable F, and a row of zeros: \") \n",
    "print(R)\n",
    "\n",
    "#R has the identity matrix "
   ]
  },
  {
   "cell_type": "markdown",
   "metadata": {},
   "source": [
    "But now C(R) =/= C(A)! We did row operations, which should have preserved the rows, and thus C(A^T)=C(R^T) should still apply. But the column space has been altered given that we did row operations. \n",
    "\n",
    "##### Basis for row space of A or R is teh first r rows of R\n",
    "Sometimes it's true for A as well, but not necessarily. \n",
    "\n",
    "#### Why is C(A^T)=C(R^T)?\n",
    "We arrived to R by taking different combinations of the rows of A. So R is certainly in the row sapce of A. Thus the dimension is r, and the natural basis for A is the r rows of R. Reversing the steps of row reductions, we return to the rows of A --> the two row spaces of R and A are the same, and the basis are the same. The natural basis for A is the r rows of R.\n",
    "\n",
    "#### 4th space: N(A^T)\n",
    "A^T y = 0  , thus y is in N(A^T).\n",
    "\n",
    "\n",
    "[ MATRIX ] dot [ COLUMN ] = [ ZERO ] "
   ]
  },
  {
   "cell_type": "code",
   "execution_count": null,
   "metadata": {},
   "outputs": [],
   "source": []
  }
 ],
 "metadata": {
  "kernelspec": {
   "display_name": "Python 3",
   "language": "python",
   "name": "python3"
  },
  "language_info": {
   "codemirror_mode": {
    "name": "ipython",
    "version": 3
   },
   "file_extension": ".py",
   "mimetype": "text/x-python",
   "name": "python",
   "nbconvert_exporter": "python",
   "pygments_lexer": "ipython3",
   "version": "3.7.4"
  }
 },
 "nbformat": 4,
 "nbformat_minor": 2
}
