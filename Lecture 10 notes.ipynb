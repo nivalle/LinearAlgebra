{
 "cells": [
  {
   "cell_type": "code",
   "execution_count": 21,
   "metadata": {},
   "outputs": [],
   "source": [
    "import numpy as np\n",
    "from sympy import *\n",
    "import copy as copy"
   ]
  },
  {
   "cell_type": "markdown",
   "metadata": {},
   "source": [
    "# Lecture 10 : four fundamental subspaces "
   ]
  },
  {
   "cell_type": "markdown",
   "metadata": {},
   "source": [
    "### Space is R^3. One basis as below"
   ]
  },
  {
   "cell_type": "code",
   "execution_count": 1,
   "metadata": {},
   "outputs": [],
   "source": [
    "basis = [[1, 0, 0],[0, 1, 0], [0, 0, 1]]"
   ]
  },
  {
   "cell_type": "code",
   "execution_count": 3,
   "metadata": {},
   "outputs": [],
   "source": [
    "another_basis = [[1, 2, 3], [1, 2, 3], [2, 5, 8]]"
   ]
  },
  {
   "cell_type": "markdown",
   "metadata": {},
   "source": [
    "But the matrix above, an example from last lecture is not actually a basis. While all columns are indepenent, it is not invertible because it has two equal rows. Later in this lecture, we will connect the column space with the row space - the row space of this matrix is only 2D since two of the rows are the same. This in fact means that the rank of the column space is also only 2 - the row space tells us somethign about the column space. "
   ]
  },
  {
   "cell_type": "markdown",
   "metadata": {},
   "source": [
    "### Four fundamental subspaces \n",
    "#### Columnspace C(A)\n",
    "#### Nullspace N(A)\n",
    "#### Rowspace R(A) = C(A^T)\n",
    "\n",
    "R(A) - all combinations of rows of A. Rows will be a basis for the row space, if all rows are independent. Or, all combinations of the columns of A^T (we prefer column vectors to row vectors). \n",
    "So, R(A) = C(A^T)\n",
    "\n",
    "#### Nullspace of A^T = N(A^T)\n",
    "\n",
    "N(A^T) is the left nullspace of A\n",
    "\n",
    "\n",
    "##### If A is m x n:\n",
    "- C(A) is in R^m\n",
    "- N(A) is in R^n\n",
    "- C(A^T) is in R^n\n",
    "- N(A^T) is in R^m"
   ]
  },
  {
   "cell_type": "markdown",
   "metadata": {},
   "source": [
    "We want to understand these subspaces: what systematic way will produce their bases? What is their dimension? \n",
    "\n",
    "#### Dimension\n",
    "Dimension of a subspace is its rank.\n",
    "\n",
    "\n",
    "The dimension of a column space (C(A)) = r of A\n",
    "\n",
    "A = r\n",
    "\n",
    "The dimension of a row space (C(A^T)) = r of A, Also!\n",
    "\n",
    "A^T = r\n",
    "\n",
    "Row space and column space of a matrix A have the same dimension!\n",
    "\n",
    "N(A) = n-r  \n",
    "N(A^T) = m-r\n",
    "\n",
    "The dimension of the null space plus the dimension of the column space should equal the number of columns  \n",
    "\n",
    "#### Basis\n",
    "C(A) - Pivot columms\n",
    "N(A) - special solutions \n",
    "C(A^T) - Pivot columns of A^T\n",
    "N(A^T) - special solutions "
   ]
  },
  {
   "cell_type": "code",
   "execution_count": 15,
   "metadata": {},
   "outputs": [
    {
     "name": "stdout",
     "output_type": "stream",
     "text": [
      "The final matrix R has the identity matrix I,free variable F, and a row of zeros: \n",
      "[[1 0 1 1]\n",
      " [0 1 1 0]\n",
      " [0 0 0 0]]\n"
     ]
    }
   ],
   "source": [
    "A =np.array([[1, 2, 3, 1],[1, 1, 2, 1],[1, 2, 3, 1]])\n",
    "\n",
    "#elimination to get the pivots\n",
    "rrefA=np.array([[1, 2, 3, 1],[0, 1, 1, 0],[0, 0, 0, 0]])\n",
    "\n",
    "#clean up the matrix to get R\n",
    "R=np.array([[1, 0, 1, 1],[0, 1, 1, 0],[0, 0, 0, 0]])\n",
    "print(\"The final matrix R has the identity matrix I,\\\n",
    "free variable F, and a row of zeros: \") \n",
    "print(R)\n",
    "\n",
    "#R has the identity matrix "
   ]
  },
  {
   "cell_type": "markdown",
   "metadata": {},
   "source": [
    "But now C(R) =/= C(A)! We did row operations, which should have preserved the rows, and thus C(A^T)=C(R^T) should still apply. But the column space has been altered given that we did row operations. \n",
    "\n",
    "##### Basis for row space of A or R is teh first r rows of R\n",
    "Sometimes it's true for A as well, but not necessarily. \n",
    "\n",
    "#### Why is C(A^T)=C(R^T)?\n",
    "We arrived to R by taking different combinations of the rows of A. So R is certainly in the row sapce of A. Thus the dimension is r, and the natural basis for A is the r rows of R. Reversing the steps of row reductions, we return to the rows of A --> the two row spaces of R and A are the same, and the basis are the same. The natural basis for A is the r rows of R.\n",
    "\n",
    "#### 4th space: N(A^T)\n",
    "A^T y = 0  , thus y is in N(A^T).\n",
    "\n",
    "\n",
    "[ MATRIX ] dot [ COLUMN ] = [ ZERO ] \n",
    "\n",
    "(A^T y)^T = y^T A\n",
    "\n",
    "[y^T][A]=[0]\n",
    "\n",
    "now y^T is a row"
   ]
  },
  {
   "cell_type": "markdown",
   "metadata": {},
   "source": [
    "#### How do we get a basis for the left null space? \n",
    "\n",
    "Gauss-Jordan: tack on the identity matrix right after A\n",
    "\n",
    "rref[A mxn I mxm] --> [R mxn E mxm]\n",
    "\n",
    "And here E will contain a record of what we did to get A to R. \n",
    "\n",
    "All that row reduction amountd to multiplying A by E:\n",
    "\n",
    "[E][A]-->[R]\n",
    "\n",
    "In chapter 2, R was I, when we were trying to get A-1. Then, E was A-1. "
   ]
  },
  {
   "cell_type": "code",
   "execution_count": 16,
   "metadata": {},
   "outputs": [
    {
     "name": "stdout",
     "output_type": "stream",
     "text": [
      "[[1 2 3 1]\n",
      " [1 1 2 1]\n",
      " [1 2 3 1]]\n"
     ]
    }
   ],
   "source": [
    "print(A)"
   ]
  },
  {
   "cell_type": "code",
   "execution_count": 47,
   "metadata": {},
   "outputs": [
    {
     "name": "stdout",
     "output_type": "stream",
     "text": [
      "So, following the rref steps we used to get R, repeat for I:\n",
      "[[1. 0. 0.]\n",
      " [0. 1. 0.]\n",
      " [0. 0. 1.]]\n",
      "[[1 0 1 1]\n",
      " [0 1 1 0]\n",
      " [0 0 0 0]]\n",
      ".... next .....\n",
      "[[1 0 1 1]\n",
      " [0 1 1 0]\n",
      " [0 0 0 0]]\n",
      ".... next .....\n",
      "[[1 0 1 1]\n",
      " [0 1 1 0]\n",
      " [0 0 0 0]]\n",
      "Matrix E is then =\n",
      "[[-1.  2.  0.]\n",
      " [ 1. -1.  0.]\n",
      " [-1.  0.  1.]]\n"
     ]
    }
   ],
   "source": [
    "print(\"So, following the rref steps we used to get R, repeat for I:\")\n",
    "I=np.identity(3)\n",
    "print(I)\n",
    "\n",
    "R=copy.deepcopy(A)\n",
    "E=copy.deepcopy(I)\n",
    "E[2]=-I[0]+I[2]\n",
    "R[2]=-A[0]+A[2]\n",
    "print(U)\n",
    "\n",
    "print(\".... next .....\")\n",
    "E[1]=I[0]-I[1]\n",
    "R[1]=A[0]-A[1]\n",
    "print(U)\n",
    "\n",
    "print(\".... next .....\")\n",
    "E[0]=2*I[1]-I[0]\n",
    "R[0]=2*A[1]-A[0]\n",
    "print(R)\n",
    "print(\"Matrix E is then =\")\n",
    "print(E)"
   ]
  },
  {
   "cell_type": "code",
   "execution_count": 48,
   "metadata": {},
   "outputs": [
    {
     "data": {
      "text/plain": [
       "array([[ True,  True,  True,  True],\n",
       "       [ True,  True,  True,  True],\n",
       "       [ True,  True,  True,  True]])"
      ]
     },
     "execution_count": 48,
     "metadata": {},
     "output_type": "execute_result"
    }
   ],
   "source": [
    "R==np.dot(E,A)"
   ]
  },
  {
   "cell_type": "markdown",
   "metadata": {},
   "source": [
    "The only reason we wanted this blasted E was so that we can figure out the left nullspace. The dimension of the left nullspace is 1: the dimension of A=A^T=r=2. \n",
    "\n",
    "Thus, the diemsion of N(A^T):\n",
    "\n",
    "dN(A^T) = m-r = 3-2 = 1\n",
    "\n",
    "This means there is 1 combination of the three rows that produces the zero row. The basis for the left nullspace has only 1 vector in it. That vector is in the last row of E: "
   ]
  },
  {
   "cell_type": "code",
   "execution_count": 50,
   "metadata": {},
   "outputs": [
    {
     "data": {
      "text/plain": [
       "array([-1.,  0.,  1.])"
      ]
     },
     "execution_count": 50,
     "metadata": {},
     "output_type": "execute_result"
    }
   ],
   "source": [
    "E[-1]"
   ]
  },
  {
   "cell_type": "markdown",
   "metadata": {},
   "source": [
    "Since we're looking at the let nullspace, we are looking for a combiantion of rows to give the zero row.\n",
    "\n",
    "So to get the basis of the left null space, we have to keep track of E! At least it does not require that transpose the matrix and start all over again. "
   ]
  },
  {
   "cell_type": "markdown",
   "metadata": {},
   "source": [
    "### Review\n",
    "\n",
    "The row space and the null space are in Rn, their dimensions add to n.\n",
    "\n",
    "The column space and the left null space are in Rm, and their dimensions add to m. "
   ]
  },
  {
   "cell_type": "markdown",
   "metadata": {},
   "source": [
    "### A new vector sapce, M\n",
    "\n",
    "All 3x3 matrices: every 3x3 matrix is our vector in the vector space. \n",
    "\n",
    "Our vectors in the vectrorsapce just need to obey the rules of vectorsapces: \n",
    "1. We need to be able to add the vectors to get the span of the vectorspace: we can add matrices\n",
    "2. We need to be able to multiply them by scalars: we can multiply matrices by 7\n",
    "3. We need to be able to take combinatinos of vectors: we can take 2 of one matrix and add it to 3 of another matrix \n",
    "4. We have a 0 matrix\n",
    "...\n",
    "\n",
    "All those 8 rules for a vector space are easily satisfied with matrices as well. Since right now we are just intersterd in adding matrics (A+B) and multiplying them by scalars (cA), we are not currently interesred in matrix multiplicaiton (AB).\n",
    "\n",
    "#### Subspaces of M\n",
    "- all upper triangular matrices\n",
    "- all symmetric matrices\n",
    "- the intersction of two subspaces are another subspace: diagonal matrices (zeros above and below the diagonal). This subspace is smaller than the first two, since this subspace is contained in the first two. \n",
    "\n",
    "Next time we will produce the dimension and basis of the exampels above. \n",
    "\n",
    "#### Dimensions of the subspaces of M\n",
    "- Upper triangular matrices\n",
    "- Symmetric matrices\n",
    "- Diagonal matrices: d=3 (three independent diagonal matrices)"
   ]
  }
 ],
 "metadata": {
  "kernelspec": {
   "display_name": "Python 3",
   "language": "python",
   "name": "python3"
  },
  "language_info": {
   "codemirror_mode": {
    "name": "ipython",
    "version": 3
   },
   "file_extension": ".py",
   "mimetype": "text/x-python",
   "name": "python",
   "nbconvert_exporter": "python",
   "pygments_lexer": "ipython3",
   "version": "3.7.4"
  }
 },
 "nbformat": 4,
 "nbformat_minor": 2
}
